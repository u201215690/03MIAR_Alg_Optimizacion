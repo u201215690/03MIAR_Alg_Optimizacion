{
 "cells": [
  {
   "cell_type": "markdown",
   "id": "7d6595c4-634c-4677-af83-2c759d510950",
   "metadata": {},
   "source": [
    "# Ejercicio 1: Ordenación con Merge Sort\n",
    "Enunciado: \n",
    "Implementa el algoritmo Merge Sort para ordenar una lista de números enteros.\n",
    "\n",
    "\n",
    "• Utiliza el enfoque divide y vencerás para dividir recursivamente la lista en\n",
    "mitades, ordenar cada mitad y luego fusionarlas.\n",
    "\n",
    "• Datos de ejemplo: [38, 27, 43, 3, 9, 82, 10]\n",
    "\n",
    "• Muestra la lista original y la lista ordenada al final.\n",
    "## Solución\n",
    "A continuación, el código en un notebook Jupyter:"
   ]
  },
  {
   "cell_type": "code",
   "execution_count": 25,
   "id": "dcef0022-86e8-4f60-87f1-9bb209b3d49f",
   "metadata": {},
   "outputs": [],
   "source": [
    "def merge(left, right):\n",
    "     \"\"\"\n",
    "     Fusiona dos listas ya ordenadas (left y right) en una sola lista\n",
    "    ordenada.\n",
    "     \"\"\"\n",
    "     print(\"final izq:\", left)\n",
    "     print(\"final der:\", right)\n",
    "     merged = []\n",
    "     i = j = 0\n",
    "     # Recorremos ambas sublistas y tomamos el elemento menor en cada paso\n",
    "     while i < len(left) and j < len(right):\n",
    "         if left[i] <= right[j]:\n",
    "             merged.append(left[i])\n",
    "             i += 1\n",
    "         else:\n",
    "             merged.append(right[j])\n",
    "             j += 1\n",
    "     # Si quedan elementos en alguna de las dos sublistas, los añadimos\n",
    "     merged.extend(left[i:])\n",
    "     merged.extend(right[j:])\n",
    "     return merged"
   ]
  },
  {
   "cell_type": "markdown",
   "id": "dd39b77b-49c3-4a9d-b0b4-a5b405a6d4ad",
   "metadata": {},
   "source": [
    "### Celda 2: Definición del algoritmo merge_sort"
   ]
  },
  {
   "cell_type": "code",
   "execution_count": 30,
   "id": "71f15b5c-5250-4fe7-83cf-aa06d2d54a6a",
   "metadata": {},
   "outputs": [],
   "source": [
    "def merge_sort(arr, lado):\n",
    " \"\"\"\n",
    " Ordena recursivamente la lista arr utilizando Merge Sort.\n",
    " \"\"\"\n",
    " print(\"Ingreso al merge: \", arr, lado)\n",
    " # Caso base: lista de tamaño 0 o 1 ya está ordenada\n",
    " if len(arr) <= 1:\n",
    "     print(\"tamaño:\",len(arr))\n",
    "     return arr\n",
    " # Dividir en mitades\n",
    " mid = len(arr) // 2\n",
    " print(\"Mitad: \",mid)\n",
    " left = merge_sort(arr[:mid], \"izq\")\n",
    " print(\"Izq: \",left)\n",
    " print(\"ARREGLO\",arr)\n",
    " right = merge_sort(arr[mid:], \"der\")\n",
    " print(\"Der: \",right)\n",
    " # Fusionar las mitades ordenadas\n",
    " return merge(left, right)"
   ]
  },
  {
   "cell_type": "markdown",
   "id": "7e483f5a-ddc6-45e9-bcd4-f9598380bb50",
   "metadata": {},
   "source": [
    "### Celda 3: Prueba del algoritmo"
   ]
  },
  {
   "cell_type": "code",
   "execution_count": 31,
   "id": "b56248ea-4226-4cb6-98b5-81ceea3b808d",
   "metadata": {
    "scrolled": true
   },
   "outputs": [
    {
     "name": "stdout",
     "output_type": "stream",
     "text": [
      "Lista original: [38, 27, 43, 3, 9, 82, 10]\n",
      "Ingreso al merge:  [38, 27, 43, 3, 9, 82, 10] inicio\n",
      "Mitad:  3\n",
      "Ingreso al merge:  [38, 27, 43] izq\n",
      "Mitad:  1\n",
      "Ingreso al merge:  [38] izq\n",
      "tamaño: 1\n",
      "Izq:  [38]\n",
      "ARREGLO [38, 27, 43]\n",
      "Ingreso al merge:  [27, 43] der\n",
      "Mitad:  1\n",
      "Ingreso al merge:  [27] izq\n",
      "tamaño: 1\n",
      "Izq:  [27]\n",
      "ARREGLO [27, 43]\n",
      "Ingreso al merge:  [43] der\n",
      "tamaño: 1\n",
      "Der:  [43]\n",
      "final izq: [27]\n",
      "final der: [43]\n",
      "Der:  [27, 43]\n",
      "final izq: [38]\n",
      "final der: [27, 43]\n",
      "Izq:  [27, 38, 43]\n",
      "ARREGLO [38, 27, 43, 3, 9, 82, 10]\n",
      "Ingreso al merge:  [3, 9, 82, 10] der\n",
      "Mitad:  2\n",
      "Ingreso al merge:  [3, 9] izq\n",
      "Mitad:  1\n",
      "Ingreso al merge:  [3] izq\n",
      "tamaño: 1\n",
      "Izq:  [3]\n",
      "ARREGLO [3, 9]\n",
      "Ingreso al merge:  [9] der\n",
      "tamaño: 1\n",
      "Der:  [9]\n",
      "final izq: [3]\n",
      "final der: [9]\n",
      "Izq:  [3, 9]\n",
      "ARREGLO [3, 9, 82, 10]\n",
      "Ingreso al merge:  [82, 10] der\n",
      "Mitad:  1\n",
      "Ingreso al merge:  [82] izq\n",
      "tamaño: 1\n",
      "Izq:  [82]\n",
      "ARREGLO [82, 10]\n",
      "Ingreso al merge:  [10] der\n",
      "tamaño: 1\n",
      "Der:  [10]\n",
      "final izq: [82]\n",
      "final der: [10]\n",
      "Der:  [10, 82]\n",
      "final izq: [3, 9]\n",
      "final der: [10, 82]\n",
      "Der:  [3, 9, 10, 82]\n",
      "final izq: [27, 38, 43]\n",
      "final der: [3, 9, 10, 82]\n",
      "Lista ordenada: [3, 9, 10, 27, 38, 43, 82]\n"
     ]
    }
   ],
   "source": [
    "datos = [38, 27, 43, 3, 9, 82, 10]\n",
    "print(\"Lista original:\", datos)\n",
    "ordenada = merge_sort(datos, \"inicio\")\n",
    "print(\"Lista ordenada:\", ordenada)"
   ]
  },
  {
   "cell_type": "markdown",
   "id": "58009b23-6b6f-4c08-8dbd-d1701bb3e820",
   "metadata": {},
   "source": [
    "# Ejercicio 2: Cambio de monedas (Greedy)\n",
    "Enunciado\n",
    "\n",
    "Dado un sistema monetario con denominaciones 1,5,10,251, 5, 10, 25, descompón la\n",
    "cantidad C = 63 en el menor número de monedas posible usando la estrategia voraz\n",
    "(greedy).\n",
    "\n",
    "• Devuelve un diccionario {denominación: número_de_monedas}.\n",
    "\n",
    "• Muestra por pantalla la solución.\n",
    "\n",
    "## Solución\n"
   ]
  },
  {
   "cell_type": "markdown",
   "id": "e598a757-b048-499e-9fb6-fa5e2a0f1332",
   "metadata": {},
   "source": [
    "### Celda 1: Definición de la función greedy_change"
   ]
  },
  {
   "cell_type": "code",
   "execution_count": 33,
   "id": "333661e1-cfc5-4247-97c5-e1bdf388d1db",
   "metadata": {},
   "outputs": [],
   "source": [
    "def greedy_change(amount, coins):\n",
    "     \"\"\"\n",
    "     Descompone la cantidad 'amount' usando el menor número de monedas\n",
    "     según la estrategia voraz: siempre tomar tantas como sea posible\n",
    "     de la mayor denominación disponible.\n",
    "     - amount: entero >= 0\n",
    "     - coins: lista de denominaciones en orden descendente\n",
    "     \"\"\"\n",
    "     result = {}\n",
    "     for coin in coins:\n",
    "         count = amount // coin # cuántas monedas de esta denom.\n",
    "         if count > 0:\n",
    "             result[coin] = count\n",
    "             amount -= coin * count # reducimos la cantidad restante\n",
    "     return result"
   ]
  },
  {
   "cell_type": "markdown",
   "id": "4d492112-2699-409e-a37c-3ff016acaf6b",
   "metadata": {},
   "source": [
    "### Celda 2: Prueba con C = 63 y monedas [25, 10, 5, 1]"
   ]
  },
  {
   "cell_type": "code",
   "execution_count": 40,
   "id": "6334677c-78c3-4afe-8eab-d50f215d5f52",
   "metadata": {},
   "outputs": [
    {
     "name": "stdout",
     "output_type": "stream",
     "text": [
      "Cambio para 63 unidades:\n",
      " 63 moneda(s) de 1\n"
     ]
    }
   ],
   "source": [
    "monedas = [25, 10, 5, 1]\n",
    "C = 63\n",
    "cambio = greedy_change(C, monedas)\n",
    "print(f\"Cambio para {C} unidades:\")\n",
    "for denom, num in cambio.items():\n",
    "    print(f\" {num} moneda(s) de {denom}\")"
   ]
  },
  {
   "cell_type": "markdown",
   "id": "e4b5ebac-ed08-42ca-a127-609943aa52da",
   "metadata": {},
   "source": [
    "# Ejercicio 3: Problema de las 4 reinas (Backtracking)\n",
    "Enunciado\n",
    "\n",
    "Resuelve el problema de colocar 4 reinas en un tablero de 4×4 sin que se ataquen\n",
    "mutuamente.\n",
    "\n",
    "• Modela la solución como una tupla de 4 posiciones, donde el índice i (0–3)\n",
    "representa la columna y el valor la fila (0–3).\n",
    "\n",
    "• Encuentra todas las soluciones y muéstralas. \n",
    "\n",
    "## Solución"
   ]
  },
  {
   "cell_type": "markdown",
   "id": "6d7e6c70-2db0-4915-b7d5-c86dc8b71688",
   "metadata": {},
   "source": [
    "### Celda 1: Función de seguridad"
   ]
  },
  {
   "cell_type": "code",
   "execution_count": 39,
   "id": "95817ed0-ff94-4c19-9cc7-647e9d102dbe",
   "metadata": {},
   "outputs": [],
   "source": [
    "def is_safe(positions, row, col):\n",
    "     \"\"\"\n",
    "     Comprueba si una reina en (row, col) no es atacada\n",
    "     por las reinas ya colocadas en 'positions'.\n",
    "     - positions: lista de columnas donde ya hay reinas,\n",
    "     el índice es la fila.\n",
    "     \"\"\"\n",
    "     for r, c in enumerate(positions):\n",
    "         # misma columna o misma diagonal\n",
    "         print(f\"c:{c}==col:{col} o {abs(c-col)}=={row-r}\")\n",
    "         if c == col or abs(c - col) == row - r:\n",
    "             return False\n",
    "     return True"
   ]
  },
  {
   "cell_type": "markdown",
   "id": "2179307a-bafa-4f9a-83f6-81864bc0f465",
   "metadata": {},
   "source": [
    "### Celda 2: Algoritmo de backtracking"
   ]
  },
  {
   "cell_type": "code",
   "execution_count": 28,
   "id": "bc5b0c99-111e-48cf-8a4b-62a03b8cdba5",
   "metadata": {},
   "outputs": [],
   "source": [
    "def solve_n_queens(n):\n",
    "     solutions = []\n",
    "     def backtrack(row, positions):\n",
    "         print(f\"Ingresa filas: {row}, Posicion: {positions}\")\n",
    "         # si llegamos a n filas, guardamos la solución\n",
    "         if row == n:\n",
    "             solutions.append(tuple(positions))\n",
    "             print(\"Llegamos a una solucion:\", solutions)\n",
    "             return\n",
    "         # probamos cada columna\n",
    "         for col in range(n):\n",
    "             print(f\"Probando con: {row}, Columna:{col}\")\n",
    "             if is_safe(positions, row, col):\n",
    "                 print(\"Columna is safe:\",col)\n",
    "                 positions.append(col)\n",
    "                 print(\"Posiciones actualizadas\", positions)\n",
    "                 backtrack(row + 1, positions)\n",
    "                 positions.pop()\n",
    "                 print(\"posiciones:\",positions)\n",
    "     backtrack(0, [])\n",
    "     return solutions"
   ]
  },
  {
   "cell_type": "markdown",
   "id": "038b3f5c-547c-4262-b2d4-73b7a7502ee7",
   "metadata": {},
   "source": [
    "#### 2.1 Versión con dibujos"
   ]
  },
  {
   "cell_type": "code",
   "execution_count": 40,
   "id": "70fc94a8-7b9f-4c7f-bcdd-c61b4e11ebf7",
   "metadata": {},
   "outputs": [],
   "source": [
    "def solve_n_queens(n):\n",
    "     solutions = []\n",
    "     def backtrack(row, positions, prefix=\"\", is_last=True):\n",
    "        # a) Estado actual\n",
    "        label = \"[\" + \",\".join(map(str, positions)) + \"]\"\n",
    "        # b) Selección de conector\n",
    "        if prefix:\n",
    "            connector = \"└── \" if is_last else \"├── \"\n",
    "        else:\n",
    "            connector = \"\"\n",
    "        # c) Dibuja el nodo    \n",
    "        print(prefix + connector + label)\n",
    "        # d) Caso base: fila n → solución completa\n",
    "        if row == n:\n",
    "            solutions.append(tuple(positions))   # <-- aquí añadimos\n",
    "            return\n",
    "\n",
    "        # e) Prueba todas las columnas 0..n-1\n",
    "        for idx, col in enumerate(range(n)):\n",
    "            last_try = (idx == n - 1)\n",
    "            try_connector = \"└── \" if last_try else \"├── \"\n",
    "            new_prefix = prefix + (\"    \" if is_last else \"│   \")\n",
    "            ok = is_safe(positions, row, col)\n",
    "            status = \"✔\" if ok else \"✖\"\n",
    "            # Imprime cada intento antes de podar\n",
    "            print(new_prefix + try_connector + f\"col={col} {status}\")\n",
    "            # Si es seguro, profundiza en la siguiente fila\n",
    "            if ok:\n",
    "                child_prefix = new_prefix + (\"    \" if last_try else \"│   \")\n",
    "                backtrack(row + 1, positions + [col], child_prefix, True)\n",
    "     backtrack(0, [], \"\", True)\n",
    "     return solutions"
   ]
  },
  {
   "cell_type": "markdown",
   "id": "848c2ad1-c19d-4f4a-9bf4-53efaef0bcea",
   "metadata": {},
   "source": [
    "### Celda 3: Ejecución y despliegue de soluciones"
   ]
  },
  {
   "cell_type": "code",
   "execution_count": 42,
   "id": "a8bfb221-f5a8-4edd-ad33-e23a3f522c8c",
   "metadata": {},
   "outputs": [
    {
     "name": "stdout",
     "output_type": "stream",
     "text": [
      "[]\n",
      "    ├── col=0 ✔\n",
      "    │   └── [0]\n",
      "c:0==col:0 o 0==1\n",
      "    │       ├── col=0 ✖\n",
      "c:0==col:1 o 1==1\n",
      "    │       ├── col=1 ✖\n",
      "c:0==col:2 o 2==1\n",
      "    │       ├── col=2 ✔\n",
      "    │       │   └── [0,2]\n",
      "c:0==col:0 o 0==2\n",
      "    │       │       ├── col=0 ✖\n",
      "c:0==col:1 o 1==2\n",
      "c:2==col:1 o 1==1\n",
      "    │       │       ├── col=1 ✖\n",
      "c:0==col:2 o 2==2\n",
      "    │       │       ├── col=2 ✖\n",
      "c:0==col:3 o 3==2\n",
      "c:2==col:3 o 1==1\n",
      "    │       │       └── col=3 ✖\n",
      "c:0==col:3 o 3==1\n",
      "    │       └── col=3 ✔\n",
      "    │           └── [0,3]\n",
      "c:0==col:0 o 0==2\n",
      "    │               ├── col=0 ✖\n",
      "c:0==col:1 o 1==2\n",
      "c:3==col:1 o 2==1\n",
      "    │               ├── col=1 ✔\n",
      "    │               │   └── [0,3,1]\n",
      "c:0==col:0 o 0==3\n",
      "    │               │       ├── col=0 ✖\n",
      "c:0==col:1 o 1==3\n",
      "c:3==col:1 o 2==2\n",
      "    │               │       ├── col=1 ✖\n",
      "c:0==col:2 o 2==3\n",
      "c:3==col:2 o 1==2\n",
      "c:1==col:2 o 1==1\n",
      "    │               │       ├── col=2 ✖\n",
      "c:0==col:3 o 3==3\n",
      "    │               │       └── col=3 ✖\n",
      "c:0==col:2 o 2==2\n",
      "    │               ├── col=2 ✖\n",
      "c:0==col:3 o 3==2\n",
      "c:3==col:3 o 0==1\n",
      "    │               └── col=3 ✖\n",
      "    ├── col=1 ✔\n",
      "    │   └── [1]\n",
      "c:1==col:0 o 1==1\n",
      "    │       ├── col=0 ✖\n",
      "c:1==col:1 o 0==1\n",
      "    │       ├── col=1 ✖\n",
      "c:1==col:2 o 1==1\n",
      "    │       ├── col=2 ✖\n",
      "c:1==col:3 o 2==1\n",
      "    │       └── col=3 ✔\n",
      "    │           └── [1,3]\n",
      "c:1==col:0 o 1==2\n",
      "c:3==col:0 o 3==1\n",
      "    │               ├── col=0 ✔\n",
      "    │               │   └── [1,3,0]\n",
      "c:1==col:0 o 1==3\n",
      "c:3==col:0 o 3==2\n",
      "c:0==col:0 o 0==1\n",
      "    │               │       ├── col=0 ✖\n",
      "c:1==col:1 o 0==3\n",
      "    │               │       ├── col=1 ✖\n",
      "c:1==col:2 o 1==3\n",
      "c:3==col:2 o 1==2\n",
      "c:0==col:2 o 2==1\n",
      "    │               │       ├── col=2 ✔\n",
      "    │               │       │   └── [1,3,0,2]\n",
      "c:1==col:3 o 2==3\n",
      "c:3==col:3 o 0==2\n",
      "    │               │       └── col=3 ✖\n",
      "c:1==col:1 o 0==2\n",
      "    │               ├── col=1 ✖\n",
      "c:1==col:2 o 1==2\n",
      "c:3==col:2 o 1==1\n",
      "    │               ├── col=2 ✖\n",
      "c:1==col:3 o 2==2\n",
      "    │               └── col=3 ✖\n",
      "    ├── col=2 ✔\n",
      "    │   └── [2]\n",
      "c:2==col:0 o 2==1\n",
      "    │       ├── col=0 ✔\n",
      "    │       │   └── [2,0]\n",
      "c:2==col:0 o 2==2\n",
      "    │       │       ├── col=0 ✖\n",
      "c:2==col:1 o 1==2\n",
      "c:0==col:1 o 1==1\n",
      "    │       │       ├── col=1 ✖\n",
      "c:2==col:2 o 0==2\n",
      "    │       │       ├── col=2 ✖\n",
      "c:2==col:3 o 1==2\n",
      "c:0==col:3 o 3==1\n",
      "    │       │       └── col=3 ✔\n",
      "    │       │           └── [2,0,3]\n",
      "c:2==col:0 o 2==3\n",
      "c:0==col:0 o 0==2\n",
      "    │       │               ├── col=0 ✖\n",
      "c:2==col:1 o 1==3\n",
      "c:0==col:1 o 1==2\n",
      "c:3==col:1 o 2==1\n",
      "    │       │               ├── col=1 ✔\n",
      "    │       │               │   └── [2,0,3,1]\n",
      "c:2==col:2 o 0==3\n",
      "    │       │               ├── col=2 ✖\n",
      "c:2==col:3 o 1==3\n",
      "c:0==col:3 o 3==2\n",
      "c:3==col:3 o 0==1\n",
      "    │       │               └── col=3 ✖\n",
      "c:2==col:1 o 1==1\n",
      "    │       ├── col=1 ✖\n",
      "c:2==col:2 o 0==1\n",
      "    │       ├── col=2 ✖\n",
      "c:2==col:3 o 1==1\n",
      "    │       └── col=3 ✖\n",
      "    └── col=3 ✔\n",
      "        └── [3]\n",
      "c:3==col:0 o 3==1\n",
      "            ├── col=0 ✔\n",
      "            │   └── [3,0]\n",
      "c:3==col:0 o 3==2\n",
      "c:0==col:0 o 0==1\n",
      "            │       ├── col=0 ✖\n",
      "c:3==col:1 o 2==2\n",
      "            │       ├── col=1 ✖\n",
      "c:3==col:2 o 1==2\n",
      "c:0==col:2 o 2==1\n",
      "            │       ├── col=2 ✔\n",
      "            │       │   └── [3,0,2]\n",
      "c:3==col:0 o 3==3\n",
      "            │       │       ├── col=0 ✖\n",
      "c:3==col:1 o 2==3\n",
      "c:0==col:1 o 1==2\n",
      "c:2==col:1 o 1==1\n",
      "            │       │       ├── col=1 ✖\n",
      "c:3==col:2 o 1==3\n",
      "c:0==col:2 o 2==2\n",
      "            │       │       ├── col=2 ✖\n",
      "c:3==col:3 o 0==3\n",
      "            │       │       └── col=3 ✖\n",
      "c:3==col:3 o 0==2\n",
      "            │       └── col=3 ✖\n",
      "c:3==col:1 o 2==1\n",
      "            ├── col=1 ✔\n",
      "            │   └── [3,1]\n",
      "c:3==col:0 o 3==2\n",
      "c:1==col:0 o 1==1\n",
      "            │       ├── col=0 ✖\n",
      "c:3==col:1 o 2==2\n",
      "            │       ├── col=1 ✖\n",
      "c:3==col:2 o 1==2\n",
      "c:1==col:2 o 1==1\n",
      "            │       ├── col=2 ✖\n",
      "c:3==col:3 o 0==2\n",
      "            │       └── col=3 ✖\n",
      "c:3==col:2 o 1==1\n",
      "            ├── col=2 ✖\n",
      "c:3==col:3 o 0==1\n",
      "            └── col=3 ✖\n",
      "Se han encontrado 2 soluciones para 4 reinas:\n",
      "\n",
      "Solución 1: (1, 3, 0, 2)\n",
      "∙ ♛ ∙ ∙\n",
      "∙ ∙ ∙ ♛\n",
      "♛ ∙ ∙ ∙\n",
      "∙ ∙ ♛ ∙\n",
      "\n",
      "Solución 2: (2, 0, 3, 1)\n",
      "∙ ∙ ♛ ∙\n",
      "♛ ∙ ∙ ∙\n",
      "∙ ∙ ∙ ♛\n",
      "∙ ♛ ∙ ∙\n",
      "\n"
     ]
    }
   ],
   "source": [
    "def draw_board(positions):\n",
    "    \"\"\"\n",
    "    Dibuja en consola un tablero de ajedrez de tamaño n x n,\n",
    "    colocando una reina (♛) en cada fila según 'positions'.\n",
    "    - positions: lista de longitud n, donde positions[i] es la columna\n",
    "      de la reina en la fila i.\n",
    "    \"\"\"\n",
    "    n = len(positions)\n",
    "    for row in range(n):\n",
    "        #Para cada columna, pon ♛ si coincide con la reina, o ∙ si está vacía\n",
    "        line = \" \".join(\"♛\" if col == positions[row] else \"∙\"\n",
    "                        for col in range(n))\n",
    "        print(line)\n",
    "    print()  # línea en blanco al terminar el tablero\n",
    "\n",
    "# Ejemplo de uso con las soluciones para 4 reinas\n",
    "sols = solve_n_queens(4)  # [ (1,3,0,2), (2,0,3,1) ]\n",
    "print(f\"Se han encontrado {len(sols)} soluciones para 4 reinas:\\n\")\n",
    "for idx, sol in enumerate(sols, 1):\n",
    "    print(f\"Solución {idx}: {sol}\")\n",
    "    draw_board(sol)"
   ]
  },
  {
   "cell_type": "markdown",
   "id": "4508ce3a-4128-462e-a1fd-1e1584ce5455",
   "metadata": {},
   "source": [
    "# Ejercicio 4: Torres de Hanoi (Divide y Vencerás)\n",
    "\n",
    "Enunciado\n",
    "\n",
    "Implementa el algoritmo recursivo de las Torres de Hanoi para n = 4 discos.\n",
    "\n",
    "• Torres etiquetadas como A, B (auxiliar) y C (destino).\n",
    "\n",
    "• Imprime la secuencia de movimientos y el número total de movimientos.\n",
    "\n",
    "• Restricciones:\n",
    "\n",
    "    1. Solo mover una ficha a la vez.\n",
    "\n",
    "    2. No poner un disco mayor sobre uno menor.\n",
    "## Solución"
   ]
  },
  {
   "cell_type": "markdown",
   "id": "b1c69c27-d351-4f13-80da-25477e5bce90",
   "metadata": {},
   "source": [
    "### Celda 1: Algoritmo recursivo"
   ]
  },
  {
   "cell_type": "code",
   "execution_count": 55,
   "id": "2e1b1641-656d-4738-bc6d-0d2f9066626f",
   "metadata": {},
   "outputs": [],
   "source": [
    "def hanoi(n, source, target, auxiliary, moves):\n",
    "     \"\"\"\n",
    "     Rellena 'moves' con tuplas (origen, destino) para\n",
    "     mover n discos de 'source' a 'target' usando 'auxiliary'.\n",
    "     \"\"\"\n",
    "     \n",
    "     if n == 1:\n",
    "         print(f\"Movimiento de: {source} -> {target}\")\n",
    "         moves.append((source, target))\n",
    "     else:\n",
    "         # mover n-1 de source a auxiliary\n",
    "         print(f\"Comprobando movimiento hacia torre del medio: {n-1} discos, de source:{source} a auxiliary: {auxiliary} con target:{target}, los moves: {moves}\")\n",
    "         hanoi(n-1, source, auxiliary, target, moves)\n",
    "         # mover el disco más grande a target\n",
    "         print(f\"Comprobando movimiento disco más grande:{source} a target:{target}\")\n",
    "         moves.append((source, target))\n",
    "         # mover n-1 de auxiliary a target\n",
    "         print(f\"Moviendo: {n-1} discos, de auxiliary:{auxiliary} a target: {target} con source:{source}, los moves: {moves}\")\n",
    "         hanoi(n-1, auxiliary, target, source, moves)"
   ]
  },
  {
   "cell_type": "markdown",
   "id": "8884db11-42ad-41ec-a299-7c8b867e0d24",
   "metadata": {},
   "source": [
    "### Celda 2: Ejecución"
   ]
  },
  {
   "cell_type": "code",
   "execution_count": 56,
   "id": "8bef214a-0ab0-4100-923c-49f8caedbb69",
   "metadata": {},
   "outputs": [
    {
     "name": "stdout",
     "output_type": "stream",
     "text": [
      "Iniciando con 4 A C B []\n",
      "Comprobando movimiento hacia torre del medio: 3 discos, de source:A a auxiliary: B con target:C, los moves: []\n",
      "Comprobando movimiento hacia torre del medio: 2 discos, de source:A a auxiliary: C con target:B, los moves: []\n",
      "Comprobando movimiento hacia torre del medio: 1 discos, de source:A a auxiliary: B con target:C, los moves: []\n",
      "Movimiento de: A -> B\n",
      "Comprobando movimiento disco más grande:A a target:C\n",
      "Moviendo: 1 discos, de auxiliary:B a target: C con source:A, los moves: [('A', 'B'), ('A', 'C')]\n",
      "Movimiento de: B -> C\n",
      "Comprobando movimiento disco más grande:A a target:B\n",
      "Moviendo: 2 discos, de auxiliary:C a target: B con source:A, los moves: [('A', 'B'), ('A', 'C'), ('B', 'C'), ('A', 'B')]\n",
      "Comprobando movimiento hacia torre del medio: 1 discos, de source:C a auxiliary: A con target:B, los moves: [('A', 'B'), ('A', 'C'), ('B', 'C'), ('A', 'B')]\n",
      "Movimiento de: C -> A\n",
      "Comprobando movimiento disco más grande:C a target:B\n",
      "Moviendo: 1 discos, de auxiliary:A a target: B con source:C, los moves: [('A', 'B'), ('A', 'C'), ('B', 'C'), ('A', 'B'), ('C', 'A'), ('C', 'B')]\n",
      "Movimiento de: A -> B\n",
      "Comprobando movimiento disco más grande:A a target:C\n",
      "Moviendo: 3 discos, de auxiliary:B a target: C con source:A, los moves: [('A', 'B'), ('A', 'C'), ('B', 'C'), ('A', 'B'), ('C', 'A'), ('C', 'B'), ('A', 'B'), ('A', 'C')]\n",
      "Comprobando movimiento hacia torre del medio: 2 discos, de source:B a auxiliary: A con target:C, los moves: [('A', 'B'), ('A', 'C'), ('B', 'C'), ('A', 'B'), ('C', 'A'), ('C', 'B'), ('A', 'B'), ('A', 'C')]\n",
      "Comprobando movimiento hacia torre del medio: 1 discos, de source:B a auxiliary: C con target:A, los moves: [('A', 'B'), ('A', 'C'), ('B', 'C'), ('A', 'B'), ('C', 'A'), ('C', 'B'), ('A', 'B'), ('A', 'C')]\n",
      "Movimiento de: B -> C\n",
      "Comprobando movimiento disco más grande:B a target:A\n",
      "Moviendo: 1 discos, de auxiliary:C a target: A con source:B, los moves: [('A', 'B'), ('A', 'C'), ('B', 'C'), ('A', 'B'), ('C', 'A'), ('C', 'B'), ('A', 'B'), ('A', 'C'), ('B', 'C'), ('B', 'A')]\n",
      "Movimiento de: C -> A\n",
      "Comprobando movimiento disco más grande:B a target:C\n",
      "Moviendo: 2 discos, de auxiliary:A a target: C con source:B, los moves: [('A', 'B'), ('A', 'C'), ('B', 'C'), ('A', 'B'), ('C', 'A'), ('C', 'B'), ('A', 'B'), ('A', 'C'), ('B', 'C'), ('B', 'A'), ('C', 'A'), ('B', 'C')]\n",
      "Comprobando movimiento hacia torre del medio: 1 discos, de source:A a auxiliary: B con target:C, los moves: [('A', 'B'), ('A', 'C'), ('B', 'C'), ('A', 'B'), ('C', 'A'), ('C', 'B'), ('A', 'B'), ('A', 'C'), ('B', 'C'), ('B', 'A'), ('C', 'A'), ('B', 'C')]\n",
      "Movimiento de: A -> B\n",
      "Comprobando movimiento disco más grande:A a target:C\n",
      "Moviendo: 1 discos, de auxiliary:B a target: C con source:A, los moves: [('A', 'B'), ('A', 'C'), ('B', 'C'), ('A', 'B'), ('C', 'A'), ('C', 'B'), ('A', 'B'), ('A', 'C'), ('B', 'C'), ('B', 'A'), ('C', 'A'), ('B', 'C'), ('A', 'B'), ('A', 'C')]\n",
      "Movimiento de: B -> C\n"
     ]
    }
   ],
   "source": [
    "moves = []\n",
    "print(\"Iniciando con\",4, 'A', 'C', 'B', moves)\n",
    "hanoi(4, 'A', 'C', 'B', moves)"
   ]
  },
  {
   "cell_type": "markdown",
   "id": "67e8bfd7-ae27-42c2-a2be-a8db957c25a2",
   "metadata": {},
   "source": [
    "### Celda 3: Resultados"
   ]
  },
  {
   "cell_type": "code",
   "execution_count": 46,
   "id": "1587a53d-a3d3-401a-8307-5cee65f2f4a2",
   "metadata": {},
   "outputs": [
    {
     "name": "stdout",
     "output_type": "stream",
     "text": [
      "Total de movimientos: 15\n",
      "\n",
      "Mov 1: A → B\n",
      "Mov 2: A → C\n",
      "Mov 3: B → C\n",
      "Mov 4: A → B\n",
      "Mov 5: C → A\n",
      "Mov 6: C → B\n",
      "Mov 7: A → B\n",
      "Mov 8: A → C\n",
      "Mov 9: B → C\n",
      "Mov 10: B → A\n",
      "Mov 11: C → A\n",
      "Mov 12: B → C\n",
      "Mov 13: A → B\n",
      "Mov 14: A → C\n",
      "Mov 15: B → C\n"
     ]
    }
   ],
   "source": [
    "print(f\"Total de movimientos: {len(moves)}\\n\")\n",
    "for i, (o, d) in enumerate(moves, 1):\n",
    "     print(f\"Mov {i}: {o} → {d}\")"
   ]
  },
  {
   "cell_type": "markdown",
   "id": "1d364fae-1cc5-4a5f-971c-6089c380f11b",
   "metadata": {},
   "source": [
    "# Ejercicio 5: Viaje por el río (Programación Dinámica)\n",
    "\n",
    "Enunciado\n",
    "\n",
    "En un río hay 4 embarcaderos numerados del 1 al 4. La matriz T de precios T[i][j]\n",
    "(i<j) indica el coste directo de ir del embarcadero i al j. Algunas rutas directas no\n",
    "existen (coste ∞). Además, es posible hacer trasbordos intermedios que abaraten el\n",
    "trayecto.\n",
    "\n",
    "• Usa programación dinámica para calcular la matriz C de costes mínimos entre\n",
    "todos los pares i<j.\n",
    "\n",
    "• Datos de ejemplo (∞ como math.inf):\n",
    "\n",
    "• T = [\n",
    "\n",
    "    • [inf, 3, 8, inf],\n",
    "\n",
    "    • [inf, inf, 2, 5],\n",
    "\n",
    "    • [inf, inf, inf, 1],\n",
    "\n",
    "    • [inf, inf, inf, inf]\n",
    "\n",
    "    • ]\n",
    "\n",
    "• Muestra la matriz C y el coste mínimo de 1→4.\n",
    "## Solución"
   ]
  },
  {
   "cell_type": "markdown",
   "id": "5ca8fe82-9769-4b31-8797-cddbc39e4a3b",
   "metadata": {},
   "source": [
    "### Celda 1: Inicialización"
   ]
  },
  {
   "cell_type": "code",
   "execution_count": 57,
   "id": "983ad3ba-bebd-46e7-a976-4198baa23f69",
   "metadata": {},
   "outputs": [],
   "source": [
    "import math\n",
    "n = 4\n",
    "inf = math.inf\n",
    "T = [\n",
    " [inf, 3, 8, inf],\n",
    " [inf, inf, 2, 5],\n",
    " [inf, inf, inf, 1],\n",
    " [inf, inf, inf, inf]\n",
    "]\n",
    "# Matriz C con los costes iniciales directos\n",
    "C = [[inf]*n for _ in range(n)]\n",
    "for i in range(n):\n",
    "     for j in range(n):\n",
    "         if i < j:\n",
    "             C[i][j] = T[i][j]\n"
   ]
  },
  {
   "cell_type": "markdown",
   "id": "0b148a09-b9bf-4a10-b32b-0dee35969b72",
   "metadata": {},
   "source": [
    "### Celda 2: Programación dinámica"
   ]
  },
  {
   "cell_type": "code",
   "execution_count": 59,
   "id": "eb31a493-3605-4ff3-bc9b-a584e248810a",
   "metadata": {},
   "outputs": [],
   "source": [
    "# Recorremos longitudes de subtrayecto desde 2 hasta n-1\n",
    "for length in range(2, n):\n",
    "     for i in range(n - length):\n",
    "         j = i + length\n",
    "         # probamos todos los embarcaderos intermedios k\n",
    "         for k in range(i+1, j):\n",
    "             cost = T[i][k] + C[k][j]\n",
    "             if cost < C[i][j]:\n",
    "                 C[i][j] = cost"
   ]
  },
  {
   "cell_type": "markdown",
   "id": "3e4c732f-4124-4d5d-98a8-56e5116cdbaa",
   "metadata": {},
   "source": [
    "### Celda 3: Resultados"
   ]
  },
  {
   "cell_type": "code",
   "execution_count": 61,
   "id": "bb21c1fd-54e9-436a-b03c-11e333d4d20c",
   "metadata": {},
   "outputs": [
    {
     "name": "stdout",
     "output_type": "stream",
     "text": [
      "Matriz de costes mínimos C:\n",
      "[inf, 3, 5, 6]\n",
      "[inf, inf, 2, 3]\n",
      "[inf, inf, inf, 1]\n",
      "[inf, inf, inf, inf]\n",
      "\n",
      "Coste mínimo de 1 → 4: 6\n"
     ]
    }
   ],
   "source": [
    "print(\"Matriz de costes mínimos C:\")\n",
    "for row in C:\n",
    "     print(row)\n",
    "print(f\"\\nCoste mínimo de 1 → 4: {C[0][3]}\")"
   ]
  }
 ],
 "metadata": {
  "kernelspec": {
   "display_name": "Python 3 (ipykernel)",
   "language": "python",
   "name": "python3"
  },
  "language_info": {
   "codemirror_mode": {
    "name": "ipython",
    "version": 3
   },
   "file_extension": ".py",
   "mimetype": "text/x-python",
   "name": "python",
   "nbconvert_exporter": "python",
   "pygments_lexer": "ipython3",
   "version": "3.11.11"
  }
 },
 "nbformat": 4,
 "nbformat_minor": 5
}
